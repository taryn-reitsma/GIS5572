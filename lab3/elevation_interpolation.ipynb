{
 "cells": [
  {
   "cell_type": "code",
   "execution_count": 1,
   "metadata": {},
   "outputs": [],
   "source": [
    "import arcpy\n",
    "import os"
   ]
  },
  {
   "cell_type": "code",
   "execution_count": 2,
   "metadata": {},
   "outputs": [],
   "source": [
    "directory = r\"C:\\Mac\\Home\\Documents\\ArcGIS\\Projects\\GIS5572\\Lab3\\Lab3.gdb\""
   ]
  },
  {
   "cell_type": "code",
   "execution_count": 3,
   "metadata": {},
   "outputs": [
    {
     "data": {
      "text/html": [
       "<div class='gpresult'><h2>Messages</h2><div id='messages'>Start Time: Saturday, April 12, 2025 11:49:43 AM<br>Calculating Ordinary Kriging – Default<br>Calculating Ordinary Kriging – Optimized<br>Calculating Universal Kriging – Default<br>Calculating Universal Kriging – Optimized<br>Calculating Inverse Distance Weighted - Default<br>Calculating Inverse Distance Weighted - Optimized<br> \\n<br>--------------------------------------------<br>RANK | NAME<br>--------------------------------------------<br>\\n<br>1    | Universal Kriging – Optimized<br>\\n<br>2    | Universal Kriging – Default<br>\\n<br>3    | Ordinary Kriging – Optimized<br>\\n<br>4    | Ordinary Kriging – Default<br>\\n<br>5    | Inverse Distance Weighted - Optimized<br>\\n<br>6    | Inverse Distance Weighted - Default<br>--------------------------------------------<br>Succeeded at Saturday, April 12, 2025 11:49:57 AM (Elapsed Time: 14.20 seconds)<br></div><div id = 'default' /></div></div>"
      ],
      "text/plain": [
       "<Result 'C:\\\\Mac\\\\Home\\\\Documents\\\\ArcGIS\\\\Projects\\\\GIS5572\\\\Lab3\\\\Lab3.gdb\\\\ExploratoryInterpolation1'>"
      ]
     },
     "execution_count": 3,
     "metadata": {},
     "output_type": "execute_result"
    }
   ],
   "source": [
    "# Exploratory interpolation using ordinary kriging, universal kriging, idw\n",
    "# Uses dem point layer that was resampled 10k x 10k\n",
    "arcpy.ga.ExploratoryInterpolation(\n",
    "    in_features=\"dem10000_point\",\n",
    "    value_field=\"grid_code\",\n",
    "    out_cv_table=r\"C:\\Mac\\Home\\Documents\\ArcGIS\\Projects\\GIS5572\\Lab3\\Lab3.gdb\\ExploratoryInterpolation1\",\n",
    "    out_geostat_layer=\"best_interpolator_dem\",\n",
    "    interp_methods=\"ORDINARY_KRIGING;UNIVERSAL_KRIGING;IDW\",\n",
    "    comparison_method=\"SINGLE\",\n",
    "    criterion=\"ACCURACY\",\n",
    "    criteria_hierarchy=\"ACCURACY PERCENT #\",\n",
    "    weighted_criteria=\"ACCURACY 1\",\n",
    "    exclusion_criteria=None\n",
    ")"
   ]
  },
  {
   "cell_type": "code",
   "execution_count": 4,
   "metadata": {},
   "outputs": [
    {
     "data": {
      "text/html": [
       "<div class='gpresult'><h2>Messages</h2><div id='messages'>Start Time: Saturday, April 12, 2025 11:50:31 AM<br>Succeeded at Saturday, April 12, 2025 11:50:37 AM (Elapsed Time: 6.57 seconds)<br></div><div id = 'default' /></div></div>"
      ],
      "text/plain": [
       "<Result 'C:\\\\Mac\\\\Home\\\\Documents\\\\ArcGIS\\\\Projects\\\\GIS5572\\\\Lab3\\\\Lab3.gdb\\\\dem_pointaccuracy'>"
      ]
     },
     "execution_count": 4,
     "metadata": {},
     "output_type": "execute_result"
    }
   ],
   "source": [
    "arcpy.ga.GALayerToPoints(\n",
    "    in_geostat_layer=\"best_interpolator_dem\",\n",
    "    in_locations=\"dem10000_point\",\n",
    "    z_field=None,\n",
    "    out_feature_class=r\"C:\\Mac\\Home\\Documents\\ArcGIS\\Projects\\GIS5572\\Lab3\\Lab3.gdb\\dem_pointaccuracy\",\n",
    "    append_all_fields=\"ALL\",\n",
    "    elevation_field=\"pointid\",\n",
    "    elevation_units=\"METER\"\n",
    ")"
   ]
  }
 ],
 "metadata": {
  "kernelspec": {
   "display_name": "ArcGISPro",
   "language": "Python",
   "name": "python3"
  },
  "language_info": {
   "file_extension": ".py",
   "name": "python",
   "version": "3"
  }
 },
 "nbformat": 4,
 "nbformat_minor": 2
}
