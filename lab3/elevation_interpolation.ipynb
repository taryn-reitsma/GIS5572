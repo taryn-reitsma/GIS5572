{
 "cells": [
  {
   "cell_type": "code",
   "execution_count": 1,
   "metadata": {},
   "outputs": [],
   "source": [
    "import arcpy\n",
    "import os"
   ]
  },
  {
   "cell_type": "code",
   "execution_count": 2,
   "metadata": {},
   "outputs": [],
   "source": [
    "directory = r\"C:\\Mac\\Home\\Documents\\ArcGIS\\Projects\\GIS5572\\Lab3\\Lab3.gdb\""
   ]
  },
  {
   "cell_type": "code",
   "execution_count": 3,
   "metadata": {},
   "outputs": [
    {
     "data": {
      "text/html": [
       "<div class='gpresult'><h2>Messages</h2><div id='messages'>Start Time: Saturday, April 12, 2025 11:49:43 AM<br>Calculating Ordinary Kriging – Default<br>Calculating Ordinary Kriging – Optimized<br>Calculating Universal Kriging – Default<br>Calculating Universal Kriging – Optimized<br>Calculating Inverse Distance Weighted - Default<br>Calculating Inverse Distance Weighted - Optimized<br> \\n<br>--------------------------------------------<br>RANK | NAME<br>--------------------------------------------<br>\\n<br>1    | Universal Kriging – Optimized<br>\\n<br>2    | Universal Kriging – Default<br>\\n<br>3    | Ordinary Kriging – Optimized<br>\\n<br>4    | Ordinary Kriging – Default<br>\\n<br>5    | Inverse Distance Weighted - Optimized<br>\\n<br>6    | Inverse Distance Weighted - Default<br>--------------------------------------------<br>Succeeded at Saturday, April 12, 2025 11:49:57 AM (Elapsed Time: 14.20 seconds)<br></div><div id = 'default' /></div></div>"
      ],
      "text/plain": [
       "<Result 'C:\\\\Mac\\\\Home\\\\Documents\\\\ArcGIS\\\\Projects\\\\GIS5572\\\\Lab3\\\\Lab3.gdb\\\\ExploratoryInterpolation1'>"
      ]
     },
     "execution_count": 3,
     "metadata": {},
     "output_type": "execute_result"
    }
   ],
   "source": [
    "# Exploratory interpolation using ordinary kriging, universal kriging, idw\n",
    "# Uses dem point layer that was resampled 10k x 10k\n",
    "arcpy.ga.ExploratoryInterpolation(\n",
    "    in_features=\"dem10000_point\",\n",
    "    value_field=\"grid_code\",\n",
    "    out_cv_table=r\"C:\\Mac\\Home\\Documents\\ArcGIS\\Projects\\GIS5572\\Lab3\\Lab3.gdb\\ExploratoryInterpolation1\",\n",
    "    out_geostat_layer=\"best_interpolator_dem\",\n",
    "    interp_methods=\"ORDINARY_KRIGING;UNIVERSAL_KRIGING;IDW\",\n",
    "    comparison_method=\"SINGLE\",\n",
    "    criterion=\"ACCURACY\",\n",
    "    criteria_hierarchy=\"ACCURACY PERCENT #\",\n",
    "    weighted_criteria=\"ACCURACY 1\",\n",
    "    exclusion_criteria=None\n",
    ")"
   ]
  },
  {
   "cell_type": "code",
   "execution_count": 4,
   "metadata": {},
   "outputs": [
    {
     "data": {
      "text/html": [
       "<div class='gpresult'><h2>Messages</h2><div id='messages'>Start Time: Saturday, April 12, 2025 11:50:31 AM<br>Succeeded at Saturday, April 12, 2025 11:50:37 AM (Elapsed Time: 6.57 seconds)<br></div><div id = 'default' /></div></div>"
      ],
      "text/plain": [
       "<Result 'C:\\\\Mac\\\\Home\\\\Documents\\\\ArcGIS\\\\Projects\\\\GIS5572\\\\Lab3\\\\Lab3.gdb\\\\dem_pointaccuracy'>"
      ]
     },
     "execution_count": 4,
     "metadata": {},
     "output_type": "execute_result"
    }
   ],
   "source": [
    "arcpy.ga.GALayerToPoints(\n",
    "    in_geostat_layer=\"best_interpolator_dem\",\n",
    "    in_locations=\"dem10000_point\",\n",
    "    z_field=None,\n",
    "    out_feature_class=r\"C:\\Mac\\Home\\Documents\\ArcGIS\\Projects\\GIS5572\\Lab3\\Lab3.gdb\\dem_pointaccuracy\",\n",
    "    append_all_fields=\"ALL\",\n",
    "    elevation_field=\"pointid\",\n",
    "    elevation_units=\"METER\"\n",
    ")"
   ]
  },
  {
   "cell_type": "code",
   "execution_count": 5,
   "metadata": {},
   "outputs": [
    {
     "ename": "ExecuteError",
     "evalue": "ERROR 000210: Cannot create output C:\\Mac\\Home\\Documents\\ArcGIS\\Projects\\GIS5572\\Lab3\\PostgreSQL-35-lab1-2(postgres).sde\\lab1-2.postgres.dem_pointaccuracy\nFailed to execute (ExportFeatures).\n",
     "output_type": "error",
     "traceback": [
      "\u001b[0;31m---------------------------------------------------------------------------\u001b[0m\n\u001b[0;31mExecuteError\u001b[0m                              Traceback (most recent call last)",
      "In  \u001b[0;34m[5]\u001b[0m:\nLine \u001b[0;34m2\u001b[0m:     arcpy.conversion.ExportFeatures(\u001b[37m\u001b[39;49;00m\n",
      "File \u001b[0;34mC:\\Program Files\\ArcGIS\\Pro\\Resources\\ArcPy\\arcpy\\conversion.py\u001b[0m, in \u001b[0;32mExportFeatures\u001b[0m:\nLine \u001b[0;34m2044\u001b[0m:  \u001b[34mraise\u001b[39;49;00m e\u001b[37m\u001b[39;49;00m\n",
      "File \u001b[0;34mC:\\Program Files\\ArcGIS\\Pro\\Resources\\ArcPy\\arcpy\\conversion.py\u001b[0m, in \u001b[0;32mExportFeatures\u001b[0m:\nLine \u001b[0;34m2041\u001b[0m:  retval = convertArcObjectToPythonObject(gp.ExportFeatures_conversion(*gp_fixargs((in_features, out_features, where_clause, use_field_alias_as_name, field_mapping, sort_field), \u001b[34mTrue\u001b[39;49;00m)))\u001b[37m\u001b[39;49;00m\n",
      "File \u001b[0;34mC:\\Program Files\\ArcGIS\\Pro\\Resources\\ArcPy\\arcpy\\geoprocessing\\_base.py\u001b[0m, in \u001b[0;32m<lambda>\u001b[0m:\nLine \u001b[0;34m512\u001b[0m:   \u001b[34mreturn\u001b[39;49;00m \u001b[34mlambda\u001b[39;49;00m *args: val(*gp_fixargs(args, \u001b[34mTrue\u001b[39;49;00m))\u001b[37m\u001b[39;49;00m\n",
      "\u001b[0;31mExecuteError\u001b[0m: ERROR 000210: Cannot create output C:\\Mac\\Home\\Documents\\ArcGIS\\Projects\\GIS5572\\Lab3\\PostgreSQL-35-lab1-2(postgres).sde\\lab1-2.postgres.dem_pointaccuracy\nFailed to execute (ExportFeatures).\n\n\u001b[0;31m---------------------------------------------------------------------------\u001b[0m"
     ]
    }
   ],
   "source": [
    "#export features to sde\n",
    "arcpy.conversion.ExportFeatures(\n",
    "    in_features=r\"C:\\Mac\\Home\\Documents\\ArcGIS\\Projects\\GIS5572\\Lab3\\Lab3.gdb\\dem_pointaccuracy\",\n",
    "    out_features=r\"C:\\Mac\\Home\\Documents\\ArcGIS\\Projects\\GIS5572\\Lab3\\PostgreSQL-35-lab1-2(postgres).sde\\lab1-2.postgres.dem_pointaccuracy\",\n",
    "    where_clause=\"\",\n",
    "    use_field_alias_as_name=\"NOT_USE_ALIAS\",\n",
    "    field_mapping=r'pointid \"pointid\" true true false 4 Long 0 0,First,#,C:\\Mac\\Home\\Documents\\ArcGIS\\Projects\\GIS5572\\Lab3\\Lab3.gdb\\dem_pointaccuracy,pointid,-1,-1;grid_code \"grid_code\" true true false 4 Long 0 0,First,#,C:\\Mac\\Home\\Documents\\ArcGIS\\Projects\\GIS5572\\Lab3\\Lab3.gdb\\dem_pointaccuracy,grid_code,-1,-1;Included \"Included\" true true false 255 Text 0 0,First,#,C:\\Mac\\Home\\Documents\\ArcGIS\\Projects\\GIS5572\\Lab3\\Lab3.gdb\\dem_pointaccuracy,Included,0,254;Predicted \"Predicted\" true true false 8 Double 0 0,First,#,C:\\Mac\\Home\\Documents\\ArcGIS\\Projects\\GIS5572\\Lab3\\Lab3.gdb\\dem_pointaccuracy,Predicted,-1,-1;StdError \"Standard Error\" true true false 8 Double 0 0,First,#,C:\\Mac\\Home\\Documents\\ArcGIS\\Projects\\GIS5572\\Lab3\\Lab3.gdb\\dem_pointaccuracy,StdError,-1,-1',\n",
    "    sort_field=None\n",
    ")"
   ]
  },
  {
   "cell_type": "code",
   "execution_count": null,
   "metadata": {},
   "outputs": [],
   "source": [
    "arcpy.conversion.FeatureClassToGeodatabase(\n",
    "    Input_Features=r\"C:\\Mac\\Home\\Documents\\ArcGIS\\Projects\\GIS5572\\Lab3\\Lab3.gdb\\dem_pointaccuracy\",\n",
    "    Output_Geodatabase=r\"C:\\Mac\\Home\\Documents\\ArcGIS\\Projects\\GIS5572\\Lab3\\PostgreSQL-35-lab1_2(postgres).sde\"\n",
    ")"
   ]
  }
 ],
 "metadata": {
  "kernelspec": {
   "display_name": "ArcGISPro",
   "language": "Python",
   "name": "python3"
  },
  "language_info": {
   "file_extension": ".py",
   "name": "python",
   "version": "3"
  }
 },
 "nbformat": 4,
 "nbformat_minor": 2
}
