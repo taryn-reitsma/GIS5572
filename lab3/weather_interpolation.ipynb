{
 "cells": [
  {
   "cell_type": "code",
   "execution_count": 7,
   "metadata": {},
   "outputs": [],
   "source": [
    "import arcpy\n",
    "import os"
   ]
  },
  {
   "cell_type": "code",
   "execution_count": 8,
   "metadata": {},
   "outputs": [],
   "source": [
    "directory = r\"C:\\Mac\\Home\\Documents\\ArcGIS\\Projects\\GIS5572\\Lab3\\Lab3.gdb\""
   ]
  },
  {
   "cell_type": "code",
   "execution_count": 9,
   "metadata": {},
   "outputs": [
    {
     "data": {
      "text/html": [
       "<div class='gpresult'><h2>Messages</h2><div id='messages'>Start Time: Saturday, April 12, 2025 12:36:52 PM<br>Calculating Ordinary Kriging – Default<br>Calculating Ordinary Kriging – Optimized<br>Calculating Universal Kriging – Default<br>Calculating Universal Kriging – Optimized<br>Calculating Inverse Distance Weighted - Default<br>Calculating Inverse Distance Weighted - Optimized<br> \\n<br>--------------------------------------------<br>RANK | NAME<br>--------------------------------------------<br>\\n<br>1    | Universal Kriging – Optimized<br>\\n<br>2    | Ordinary Kriging – Optimized<br>\\n<br>3    | Inverse Distance Weighted - Optimized<br>\\n<br>4    | Inverse Distance Weighted - Default<br>\\n<br>5    | Universal Kriging – Default<br>\\n<br>6    | Ordinary Kriging – Default<br>--------------------------------------------<br>Succeeded at Saturday, April 12, 2025 12:37:01 PM (Elapsed Time: 8.81 seconds)<br></div><div id = 'default' /></div></div>"
      ],
      "text/plain": [
       "<Result 'C:\\\\Mac\\\\Home\\\\Documents\\\\ArcGIS\\\\Projects\\\\GIS5572\\\\Lab3\\\\Lab3.gdb\\\\ExploratoryInterpolation_weather'>"
      ]
     },
     "execution_count": 9,
     "metadata": {},
     "output_type": "execute_result"
    }
   ],
   "source": [
    "arcpy.ga.ExploratoryInterpolation(\n",
    "    in_features=\"weather_fc\",\n",
    "    value_field=\"max_tmpf\",\n",
    "    out_cv_table=r\"C:\\Mac\\Home\\Documents\\ArcGIS\\Projects\\GIS5572\\Lab3\\Lab3.gdb\\ExploratoryInterpolation_weather\",\n",
    "    out_geostat_layer=\"best_interpolator_weather\",\n",
    "    interp_methods=\"ORDINARY_KRIGING;UNIVERSAL_KRIGING;IDW\",\n",
    "    comparison_method=\"SINGLE\",\n",
    "    criterion=\"ACCURACY\",\n",
    "    criteria_hierarchy=\"ACCURACY PERCENT #\",\n",
    "    weighted_criteria=\"ACCURACY 1\",\n",
    "    exclusion_criteria=None\n",
    ")"
   ]
  },
  {
   "cell_type": "code",
   "execution_count": 10,
   "metadata": {},
   "outputs": [
    {
     "data": {
      "text/html": [
       "<div class='gpresult'><h2>Messages</h2><div id='messages'>Start Time: Saturday, April 12, 2025 12:38:24 PM<br>Succeeded at Saturday, April 12, 2025 12:38:32 PM (Elapsed Time: 8.33 seconds)<br></div><div id = 'default' /></div></div>"
      ],
      "text/plain": [
       "<Result 'C:\\\\Mac\\\\Home\\\\Documents\\\\ArcGIS\\\\Projects\\\\GIS5572\\\\Lab3\\\\Lab3.gdb\\\\weather_pointaccuracy'>"
      ]
     },
     "execution_count": 10,
     "metadata": {},
     "output_type": "execute_result"
    }
   ],
   "source": [
    "arcpy.ga.GALayerToPoints(\n",
    "    in_geostat_layer=\"best_interpolator_weather\",\n",
    "    in_locations=\"weather_fc\",\n",
    "    z_field=\"max_tmpf\",\n",
    "    out_feature_class=r\"C:\\Mac\\Home\\Documents\\ArcGIS\\Projects\\GIS5572\\Lab3\\Lab3.gdb\\weather_pointaccuracy\",\n",
    "    append_all_fields=\"ALL\",\n",
    "    elevation_field=\"max_tmpf\",\n",
    "    elevation_units=\"METER\"\n",
    ")"
   ]
  },
  {
   "cell_type": "code",
   "execution_count": null,
   "metadata": {},
   "outputs": [],
   "source": []
  }
 ],
 "metadata": {
  "kernelspec": {
   "display_name": "ArcGISPro",
   "language": "Python",
   "name": "python3"
  },
  "language_info": {
   "file_extension": ".py",
   "name": "python",
   "version": "3"
  }
 },
 "nbformat": 4,
 "nbformat_minor": 2
}
