{
 "cells": [
  {
   "cell_type": "code",
   "execution_count": 1,
   "metadata": {},
   "outputs": [],
   "source": [
    "#Packages\n",
    "import arcpy\n",
    "import psycopg2"
   ]
  },
  {
   "cell_type": "markdown",
   "metadata": {},
   "source": [
    "### Create a polygon using arcpy geometry primitives and convert to WKT:"
   ]
  },
  {
   "cell_type": "code",
   "execution_count": 2,
   "metadata": {
    "scrolled": true
   },
   "outputs": [
    {
     "data": {
      "text/html": [
       "<div class='gpresult'><h2>Messages</h2><div id='messages'>Start Time: Monday, February 17, 2025 3:07:53 PM<br>Succeeded at Monday, February 17, 2025 3:08:00 PM (Elapsed Time: 7.65 seconds)<br></div><div id = 'default' /></div></div>"
      ],
      "text/plain": [
       "<Result 'C:\\\\Mac\\\\Home\\\\Documents\\\\ArcGIS\\\\Projects\\\\GIS5572\\\\Lab1_2\\\\Lab1_2.gdb\\\\polygon_fc'>"
      ]
     },
     "execution_count": 2,
     "metadata": {},
     "output_type": "execute_result"
    }
   ],
   "source": [
    "out_path= r'C:\\Mac\\Home\\Documents\\ArcGIS\\Projects\\GIS5572\\Lab1_2\\Lab1_2.gdb'\n",
    "out_name= 'polygon_fc'\n",
    "arcpy.management.CreateFeatureclass(out_path, out_name)"
   ]
  },
  {
   "cell_type": "code",
   "execution_count": 4,
   "metadata": {},
   "outputs": [],
   "source": [
    "# Set Polygon Info\n",
    "sr = arcpy.SpatialReference(4326)\n",
    "feature_info = [[[1, 2], [2, 4], [3, 7]],[[6, 8], [5, 7], [7, 2], [9, 5]]]\n",
    "features = []"
   ]
  },
  {
   "cell_type": "code",
   "execution_count": 5,
   "metadata": {},
   "outputs": [],
   "source": [
    "# Create Geometry\n",
    "for feature in feature_info:\n",
    "    array = arcpy.Array([arcpy.Point(*coords) for coords in feature])\n",
    "    array.append(array[0])\n",
    "    \n",
    "    polygon = arcpy.Polygon(array, sr)\n",
    "    features.append(polygon)"
   ]
  },
  {
   "cell_type": "code",
   "execution_count": 6,
   "metadata": {},
   "outputs": [],
   "source": [
    "# Add Geometry to Feature Class\n",
    "with arcpy.da.InsertCursor('polygon_fc', ['SHAPE@']) as cursor:\n",
    "    cursor.insertRow([polygon])"
   ]
  },
  {
   "cell_type": "code",
   "execution_count": 7,
   "metadata": {},
   "outputs": [],
   "source": [
    "# Select Polygon\n",
    "cursor = arcpy.da.SearchCursor('polygon_fc', \"SHAPE@\")\n",
    "for element in cursor:\n",
    "    x= element\n",
    "    break"
   ]
  },
  {
   "cell_type": "code",
   "execution_count": 8,
   "metadata": {},
   "outputs": [
    {
     "data": {
      "image/svg+xml": [
       "<svg xmlns=\"http://www.w3.org/2000/svg\" xmlns:xlink=\"http://www.w3.org/1999/xlink\" width=\"100.0\" height=\"100.0\" viewBox=\"4.7601220703125 1.7601220703125 4.48 6.48\" preserveAspectRatio=\"xMinYMin meet\"><g transform=\"matrix(1,0,0,-1,0,10.000244140625)\"><path fill-rule=\"evenodd\" fill=\"#66cc99\" stroke=\"#555555\" stroke-width=\"0.12960000000000002\" opacity=\"0.6\" d=\" M 6.0001220703125,8.0001220703125 L 9.0001220703125,5.0001220703125 L 7.0001220703125,2.0001220703125 L 5.0001220703125,7.0001220703125 L 6.0001220703125,8.0001220703125 z\" /></g></svg>"
      ],
      "text/plain": [
       "<Polygon object at 0x27d11a08350[0x27d119bf270]>"
      ]
     },
     "execution_count": 8,
     "metadata": {},
     "output_type": "execute_result"
    }
   ],
   "source": [
    "# Visualize Polygon\n",
    "geom= x[0]\n",
    "geom"
   ]
  },
  {
   "cell_type": "code",
   "execution_count": 9,
   "metadata": {},
   "outputs": [],
   "source": [
    "wkt=polygon.WKT"
   ]
  },
  {
   "cell_type": "markdown",
   "metadata": {},
   "source": [
    "### Use psycopg2to import the polygon to PostGIS database on  VM on Google Cloud running Linux Ubuntu"
   ]
  },
  {
   "cell_type": "code",
   "execution_count": 14,
   "metadata": {},
   "outputs": [],
   "source": [
    "# Connect to db -change user/pass to run\n",
    "conn_params = {\n",
    "    \"host\": \"35.202.29.226\", \n",
    "    \"database\": \"lab1-2\",\n",
    "    \"user\": \"user\",\n",
    "    \"password\": \"password\", \n",
    "    \"port\": \"5432\"\n",
    "}\n",
    "\n",
    "conn = psycopg2.connect(**conn_params)\n",
    "cursor = conn.cursor()"
   ]
  },
  {
   "cell_type": "code",
   "execution_count": 11,
   "metadata": {},
   "outputs": [
    {
     "name": "stdout",
     "output_type": "stream",
     "text": [
      "Table 'polygon' created successfully.\n"
     ]
    }
   ],
   "source": [
    "# SQL command to create table\n",
    "create_table_query = \"\"\"\n",
    "    CREATE TABLE polygon (\n",
    "        id SERIAL PRIMARY KEY,\n",
    "        geom GEOMETRY(MULTIPOLYGON, 4326)\n",
    "    );\n",
    "\"\"\"\n",
    "\n",
    "# Execute query\n",
    "cursor.execute(create_table_query)\n",
    "conn.commit()\n",
    "print(\"Table 'polygon' created successfully.\")\n",
    "\n"
   ]
  },
  {
   "cell_type": "code",
   "execution_count": 15,
   "metadata": {},
   "outputs": [
    {
     "name": "stdout",
     "output_type": "stream",
     "text": [
      "ID: 1, Geometry: MULTIPOLYGON(((6 8,5 7,7 2,9 5,6 8)))\n",
      "ID: 2, Geometry: MULTIPOLYGON(((6 8,5 7,7 2,9 5,6 8)))\n"
     ]
    }
   ],
   "source": [
    "# Insert the polygon into PostgreSQL\n",
    "insert_query = \"\"\"\n",
    "    INSERT INTO polygon (geom)\n",
    "    VALUES (ST_GeomFromText(%s, 4326));\n",
    "\"\"\"\n",
    "cursor.execute(insert_query, (wkt,))\n",
    "conn.commit()\n",
    "\n",
    "# Step 5: Verify the insertion\n",
    "cursor.execute(\"SELECT id, ST_AsText(geom) FROM polygon;\")\n",
    "rows = cursor.fetchall()\n",
    "for row in rows:\n",
    "    print(f\"ID: {row[0]}, Geometry: {row[1]}\")\n",
    "\n",
    "# Step 6: Close the connection\n",
    "cursor.close()\n",
    "conn.close()"
   ]
  }
 ],
 "metadata": {
  "kernelspec": {
   "display_name": "ArcGISPro",
   "language": "Python",
   "name": "python3"
  },
  "language_info": {
   "file_extension": ".py",
   "name": "python",
   "version": "3"
  }
 },
 "nbformat": 4,
 "nbformat_minor": 2
}
