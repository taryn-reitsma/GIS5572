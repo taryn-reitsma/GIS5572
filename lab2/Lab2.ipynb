{
 "cells": [
  {
   "cell_type": "code",
   "execution_count": 2,
   "metadata": {},
   "outputs": [],
   "source": [
    "import requests\n",
    "import arcpy\n",
    "import pandas as pd\n",
    "from arcgis import features, GeoAccessor\n",
    "from arcpy import Point, PointGeometry, SpatialReference\n",
    "import os"
   ]
  },
  {
   "cell_type": "code",
   "execution_count": 3,
   "metadata": {},
   "outputs": [],
   "source": [
    "directory = r\"C:\\Mac\\Home\\Documents\\ArcGIS\\Projects\\GIS5572\\Lab2\\Lab2.gdb\""
   ]
  },
  {
   "cell_type": "markdown",
   "metadata": {},
   "source": [
    "# Weather Data"
   ]
  },
  {
   "cell_type": "markdown",
   "metadata": {},
   "source": [
    "## Weather Data ETL"
   ]
  },
  {
   "cell_type": "code",
   "execution_count": 4,
   "metadata": {},
   "outputs": [],
   "source": [
    "# API Call and Formatting\n",
    "url= \"https://mesonet.agron.iastate.edu/api/1/daily.geojson?network=MN_RWIS&month=5&year=2024\"\n",
    "request = requests.get(url)\n",
    "response = request.json()\n",
    "df=pd.json_normalize(response['features'])\n"
   ]
  },
  {
   "cell_type": "code",
   "execution_count": 5,
   "metadata": {},
   "outputs": [],
   "source": [
    "# Remove Nested Fields\n",
    "raw_weather = pd.DataFrame.from_records(df)\n",
    "raw_weather.columns = raw_weather.columns.str.replace(\"properties.\", \"\", regex=True)\n",
    "\n",
    "# Apply Geometry\n",
    "raw_weather[\"longitude\"] = raw_weather[\"geometry.coordinates\"].apply(lambda x: x[0])  # Extract longitude\n",
    "raw_weather[\"latitude\"] = raw_weather[\"geometry.coordinates\"].apply(lambda x: x[1])   # Extract latitude"
   ]
  },
  {
   "cell_type": "code",
   "execution_count": 6,
   "metadata": {},
   "outputs": [],
   "source": [
    "# Create Copy of Dataframe with Filtered Columns\n",
    "weather = raw_weather[[\"station\", \"date\", \"max_tmpf\", \"min_tmpf\", \"latitude\", \"longitude\"]].copy()"
   ]
  },
  {
   "cell_type": "markdown",
   "metadata": {},
   "source": [
    "## Weather Data QAQC"
   ]
  },
  {
   "cell_type": "markdown",
   "metadata": {},
   "source": [
    "### Weather Station Geometry: Drop NA Values, Check Bounding Box"
   ]
  },
  {
   "cell_type": "code",
   "execution_count": 7,
   "metadata": {},
   "outputs": [],
   "source": [
    "# Drop NA Values\n",
    "weather = weather.dropna(subset=[\"latitude\", \"longitude\"])"
   ]
  },
  {
   "cell_type": "code",
   "execution_count": 8,
   "metadata": {},
   "outputs": [],
   "source": [
    "# MN Bounding Box\n",
    "min_lat, max_lat = 43.4994, 49.3844\n",
    "min_lon, max_lon = -97.2392, -89.4912\n",
    "\n",
    "# Check Bounding Box using \"in_minnesota\" column\n",
    "weather[\"in_minnesota\"] = weather.apply(lambda row: min_lon <= row[\"longitude\"] <= max_lon and min_lat <= row[\"latitude\"] <= max_lat, axis=1)\n",
    "\n",
    "# Filter Dataframe to Only Rows \"in_minnesota\"\n",
    "mn_weather = weather[weather[\"in_minnesota\"]]"
   ]
  },
  {
   "cell_type": "markdown",
   "metadata": {},
   "source": [
    "### Temperature Values: Drop Obvious Outliers Using IQR"
   ]
  },
  {
   "cell_type": "code",
   "execution_count": 9,
   "metadata": {},
   "outputs": [],
   "source": [
    "# Max Temp Outliers\n",
    "# Set Upper and Lower Bounds\n",
    "Q1_max = mn_weather['max_tmpf'].quantile(0.25)\n",
    "Q3_max = mn_weather['max_tmpf'].quantile(0.75)\n",
    "IQR_max = Q3_max - Q1_max\n",
    "\n",
    "lower_bound_max = Q1_max - 1.5 * IQR_max\n",
    "upper_bound_max = Q3_max + 1.5 * IQR_max\n",
    "\n",
    "# Identify Outliers\n",
    "outliers_max = mn_weather[(mn_weather['max_tmpf'] < lower_bound_max) | (mn_weather['max_tmpf'] > upper_bound_max)]\n",
    "\n",
    "# Remove Outliers\n",
    "mn_weather = mn_weather[(mn_weather['max_tmpf'] >= lower_bound_max) & (mn_weather['max_tmpf'] <= upper_bound_max)]"
   ]
  },
  {
   "cell_type": "code",
   "execution_count": 10,
   "metadata": {},
   "outputs": [],
   "source": [
    "# Min Temp Outliers\n",
    "# Set Upper and Lower Bounds\n",
    "Q1_min = mn_weather['min_tmpf'].quantile(0.25)\n",
    "Q3_min = mn_weather['min_tmpf'].quantile(0.75)\n",
    "IQR_min = Q3_min - Q1_min\n",
    "\n",
    "lower_bound_min = Q1_min - 1.5 * IQR_min\n",
    "upper_bound_min = Q3_min + 1.5 * IQR_min\n",
    "\n",
    "# Identify Outliers\n",
    "outliers_min = mn_weather[(mn_weather['min_tmpf'] < lower_bound_min) | (mn_weather['min_tmpf'] > upper_bound_min)]\n",
    "\n",
    "# Remove Outliers\n",
    "mn_weather = mn_weather[(mn_weather['min_tmpf'] >= lower_bound_min) & (mn_weather['min_tmpf'] <= upper_bound_min)]"
   ]
  },
  {
   "cell_type": "code",
   "execution_count": 11,
   "metadata": {},
   "outputs": [
    {
     "data": {
      "text/html": [
       "<div>\n",
       "<style scoped>\n",
       "    .dataframe tbody tr th:only-of-type {\n",
       "        vertical-align: middle;\n",
       "    }\n",
       "\n",
       "    .dataframe tbody tr th {\n",
       "        vertical-align: top;\n",
       "    }\n",
       "\n",
       "    .dataframe thead th {\n",
       "        text-align: right;\n",
       "    }\n",
       "</style>\n",
       "<table border=\"1\" class=\"dataframe\">\n",
       "  <thead>\n",
       "    <tr style=\"text-align: right;\">\n",
       "      <th></th>\n",
       "      <th>station</th>\n",
       "      <th>date</th>\n",
       "      <th>max_tmpf</th>\n",
       "      <th>min_tmpf</th>\n",
       "      <th>latitude</th>\n",
       "      <th>longitude</th>\n",
       "      <th>in_minnesota</th>\n",
       "    </tr>\n",
       "  </thead>\n",
       "  <tbody>\n",
       "    <tr>\n",
       "      <th>0</th>\n",
       "      <td>MN001</td>\n",
       "      <td>2024-05-01</td>\n",
       "      <td>64.219980</td>\n",
       "      <td>46.940020</td>\n",
       "      <td>43.508331</td>\n",
       "      <td>-93.354057</td>\n",
       "      <td>True</td>\n",
       "    </tr>\n",
       "    <tr>\n",
       "      <th>1</th>\n",
       "      <td>MN002</td>\n",
       "      <td>2024-05-01</td>\n",
       "      <td>60.440020</td>\n",
       "      <td>45.680000</td>\n",
       "      <td>44.906800</td>\n",
       "      <td>-94.119100</td>\n",
       "      <td>True</td>\n",
       "    </tr>\n",
       "    <tr>\n",
       "      <th>2</th>\n",
       "      <td>MN003</td>\n",
       "      <td>2024-05-01</td>\n",
       "      <td>64.580000</td>\n",
       "      <td>46.940020</td>\n",
       "      <td>44.478500</td>\n",
       "      <td>-93.292427</td>\n",
       "      <td>True</td>\n",
       "    </tr>\n",
       "    <tr>\n",
       "      <th>3</th>\n",
       "      <td>MN004</td>\n",
       "      <td>2024-05-01</td>\n",
       "      <td>61.160010</td>\n",
       "      <td>48.199990</td>\n",
       "      <td>45.642921</td>\n",
       "      <td>-92.992752</td>\n",
       "      <td>True</td>\n",
       "    </tr>\n",
       "    <tr>\n",
       "      <th>4</th>\n",
       "      <td>MN005</td>\n",
       "      <td>2024-05-01</td>\n",
       "      <td>61.160010</td>\n",
       "      <td>44.960010</td>\n",
       "      <td>46.212570</td>\n",
       "      <td>-92.838562</td>\n",
       "      <td>True</td>\n",
       "    </tr>\n",
       "    <tr>\n",
       "      <th>...</th>\n",
       "      <td>...</td>\n",
       "      <td>...</td>\n",
       "      <td>...</td>\n",
       "      <td>...</td>\n",
       "      <td>...</td>\n",
       "      <td>...</td>\n",
       "      <td>...</td>\n",
       "    </tr>\n",
       "    <tr>\n",
       "      <th>5048</th>\n",
       "      <td>MN168</td>\n",
       "      <td>2024-05-31</td>\n",
       "      <td>71.419975</td>\n",
       "      <td>47.480000</td>\n",
       "      <td>48.195351</td>\n",
       "      <td>-96.891144</td>\n",
       "      <td>True</td>\n",
       "    </tr>\n",
       "    <tr>\n",
       "      <th>5049</th>\n",
       "      <td>MN169</td>\n",
       "      <td>2024-05-31</td>\n",
       "      <td>70.880000</td>\n",
       "      <td>49.099990</td>\n",
       "      <td>48.647079</td>\n",
       "      <td>-96.380699</td>\n",
       "      <td>True</td>\n",
       "    </tr>\n",
       "    <tr>\n",
       "      <th>5050</th>\n",
       "      <td>MN170</td>\n",
       "      <td>2024-05-31</td>\n",
       "      <td>70.519980</td>\n",
       "      <td>54.860012</td>\n",
       "      <td>46.524620</td>\n",
       "      <td>-94.296143</td>\n",
       "      <td>True</td>\n",
       "    </tr>\n",
       "    <tr>\n",
       "      <th>5051</th>\n",
       "      <td>MN171</td>\n",
       "      <td>2024-05-31</td>\n",
       "      <td>73.760010</td>\n",
       "      <td>51.080000</td>\n",
       "      <td>46.771381</td>\n",
       "      <td>-92.137520</td>\n",
       "      <td>True</td>\n",
       "    </tr>\n",
       "    <tr>\n",
       "      <th>5052</th>\n",
       "      <td>MN172</td>\n",
       "      <td>2024-05-31</td>\n",
       "      <td>72.140020</td>\n",
       "      <td>58.640022</td>\n",
       "      <td>47.677238</td>\n",
       "      <td>-91.617683</td>\n",
       "      <td>True</td>\n",
       "    </tr>\n",
       "  </tbody>\n",
       "</table>\n",
       "<p>4812 rows × 7 columns</p>\n",
       "</div>"
      ],
      "text/plain": [
       "     station        date   max_tmpf  ...   latitude  longitude  in_minnesota\n",
       "0      MN001  2024-05-01  64.219980  ...  43.508331 -93.354057          True\n",
       "1      MN002  2024-05-01  60.440020  ...  44.906800 -94.119100          True\n",
       "2      MN003  2024-05-01  64.580000  ...  44.478500 -93.292427          True\n",
       "3      MN004  2024-05-01  61.160010  ...  45.642921 -92.992752          True\n",
       "4      MN005  2024-05-01  61.160010  ...  46.212570 -92.838562          True\n",
       "...      ...         ...        ...  ...        ...        ...           ...\n",
       "5048   MN168  2024-05-31  71.419975  ...  48.195351 -96.891144          True\n",
       "5049   MN169  2024-05-31  70.880000  ...  48.647079 -96.380699          True\n",
       "5050   MN170  2024-05-31  70.519980  ...  46.524620 -94.296143          True\n",
       "5051   MN171  2024-05-31  73.760010  ...  46.771381 -92.137520          True\n",
       "5052   MN172  2024-05-31  72.140020  ...  47.677238 -91.617683          True\n",
       "\n",
       "[4812 rows x 7 columns]"
      ]
     },
     "execution_count": 11,
     "metadata": {},
     "output_type": "execute_result"
    }
   ],
   "source": [
    "# QA Result\n",
    "mn_weather"
   ]
  },
  {
   "cell_type": "markdown",
   "metadata": {},
   "source": [
    "## Convert Weather Data to Feature Class"
   ]
  },
  {
   "cell_type": "code",
   "execution_count": 12,
   "metadata": {},
   "outputs": [
    {
     "data": {
      "text/plain": [
       "'C:\\\\Mac\\\\Home\\\\Documents\\\\ArcGIS\\\\Projects\\\\GIS5572\\\\Lab2\\\\Lab2.gdb\\\\weather_fc'"
      ]
     },
     "execution_count": 12,
     "metadata": {},
     "output_type": "execute_result"
    }
   ],
   "source": [
    "# Convert to Spatially Enabled DataFrame\n",
    "sedf=GeoAccessor.from_xy(mn_weather, 'longitude', 'latitude')\n",
    "out_name = \"weather_fc\"\n",
    "\n",
    "#Convert SEDF to Feature Class\n",
    "sedf.spatial.to_featureclass(location=f\"{directory}/{out_name}\")"
   ]
  },
  {
   "cell_type": "markdown",
   "metadata": {},
   "source": [
    "# Elevation and Land Cover Data"
   ]
  },
  {
   "cell_type": "code",
   "execution_count": 82,
   "metadata": {},
   "outputs": [],
   "source": [
    "dem_raw= \"C:\\Mac\\Home\\Documents\\ArcGIS\\Projects\\GIS5572\\Lab2\\MGC_30m_DEM\\elev_30m_digital_elevation_model.gdb\\digital_elevation_model_30m\"\n",
    "landcover_raw= \"C:\\Mac\\Home\\Documents\\ArcGIS\\Projects\\GIS5572\\Lab2\\MN_NLCD_2019\\MN_NLCD_2019_Land_Cover.tif\""
   ]
  },
  {
   "cell_type": "markdown",
   "metadata": {},
   "source": [
    "## Raster QAQC"
   ]
  },
  {
   "cell_type": "code",
   "execution_count": 37,
   "metadata": {},
   "outputs": [
    {
     "name": "stdout",
     "output_type": "stream",
     "text": [
      "There are null values\n",
      "There are null values\n"
     ]
    }
   ],
   "source": [
    "# Check For Blank/Null Values\n",
    "def check_nodata(in_raster):\n",
    "    \n",
    "    # Store Output \n",
    "    no_data = arcpy.management.GetRasterProperties(in_raster, \"ANYNODATA\").getOutput(0)\n",
    "    \n",
    "    if no_data == \"1\":\n",
    "        print(\"There are null values\")\n",
    "        \n",
    "    else:\n",
    "        print(\"There are NOT any null values\")\n",
    "    \n",
    "check_nodata(dem_raw)\n",
    "check_nodata(landcover_raw)"
   ]
  },
  {
   "cell_type": "code",
   "execution_count": 74,
   "metadata": {},
   "outputs": [
    {
     "name": "stdout",
     "output_type": "stream",
     "text": [
      "Coordinate Systems Match\n",
      "Coordinate Systems Match\n"
     ]
    }
   ],
   "source": [
    "# Check SRS\n",
    "def check_sr(in_raster, in_sr):\n",
    "    sr = arcpy.Describe(in_raster).spatialReference\n",
    "    in_sr_code = arcpy.SpatialReference(in_sr)\n",
    "    \n",
    "    if sr.factoryCode == in_sr_code.factoryCode:\n",
    "        print(\"Coordinate Systems Match\")\n",
    "        \n",
    "    else:\n",
    "        print(\"Coordinate Systems Do Not Match\")\n",
    "        print(f\"Actual Coordinate System is: {sr.factoryCode}\")\n",
    "\n",
    "check_sr(dem_raw, 26915)\n",
    "check_sr(landcover_raw, 26915)"
   ]
  },
  {
   "cell_type": "code",
   "execution_count": 79,
   "metadata": {},
   "outputs": [
    {
     "data": {
      "text/plain": [
       "[(133186.3828544069, 4770648.492016879), (789594.190423549, 5490732.38301064)]"
      ]
     },
     "execution_count": 79,
     "metadata": {},
     "output_type": "execute_result"
    }
   ],
   "source": [
    "# Change Bounding Box to 26915 Coordinate Values\n",
    "# Define the bounding box in EPSG:4326\n",
    "bbox_4326 = [(-97.5, 43.0), (-89.0, 49.5)]\n",
    "\n",
    "# Create a spatial reference object for EPSG:26915\n",
    "sr_26915 = SpatialReference(26915)\n",
    "\n",
    "# Transform the bounding box coordinates to EPSG:26915\n",
    "transformed_bbox = []\n",
    "for x, y in bbox_4326:\n",
    "    point = PointGeometry(Point(x, y), SpatialReference(4326))\n",
    "    point_projected = point.projectAs(sr_26915)\n",
    "    transformed_bbox.append((point_projected.firstPoint.X, point_projected.firstPoint.Y))\n",
    "\n",
    "# Use the transformed bounding box in the check_box function\n",
    "xmin, ymin = transformed_bbox[0]\n",
    "xmax, ymax = transformed_bbox[1]\n",
    "transformed_bbox"
   ]
  },
  {
   "cell_type": "code",
   "execution_count": 84,
   "metadata": {},
   "outputs": [
    {
     "name": "stdout",
     "output_type": "stream",
     "text": [
      "-112390.0 801260.0 5566390.0 4600900.0\n",
      "Raster is not Within Bounding Box\n",
      "189775.332039 761665.332039 5472435.370038 4816305.370038\n",
      "Raster is Within Bounding Box\n"
     ]
    }
   ],
   "source": [
    "# Check Bounding Box\n",
    "def check_box(in_raster, ymin, ymax, xmin, xmax):\n",
    "    \n",
    "    left = float(arcpy.management.GetRasterProperties(in_raster, \"LEFT\").getOutput(0))\n",
    "    right = float(arcpy.management.GetRasterProperties(in_raster,\"RIGHT\").getOutput(0))\n",
    "    top = float(arcpy.management.GetRasterProperties(in_raster, \"TOP\").getOutput(0))\n",
    "    bottom = float(arcpy.management.GetRasterProperties(in_raster,\"BOTTOM\").getOutput(0))\n",
    "    \n",
    "    print(left, right , top , bottom)\n",
    "    \n",
    "    if left < xmin or right > xmax or top > ymax or bottom < ymin:\n",
    "        print(\"Raster is not Within Bounding Box\")\n",
    "    \n",
    "    else: \n",
    "        print(\"Raster is Within Bounding Box\")\n",
    "        \n",
    "check_box(landcover_raw, 4770648.492016879, 5490732.38301064, 133186.3828544069, 789594.190423549)\n",
    "check_box(dem_raw, 4770648.492016879, 5490732.38301064, 133186.3828544069, 789594.190423549)"
   ]
  },
  {
   "cell_type": "markdown",
   "metadata": {},
   "source": [
    "### Fixing and Exporting Rasters"
   ]
  },
  {
   "cell_type": "code",
   "execution_count": 85,
   "metadata": {},
   "outputs": [
    {
     "data": {
      "text/html": [
       "<div class='gpresult'><h2>Messages</h2><div id='messages'>Start Time: Sunday, March 16, 2025 4:54:46 PM<br>Building Pyramids...<br>Succeeded at Sunday, March 16, 2025 4:56:25 PM (Elapsed Time: 1 minutes 38 seconds)<br></div><div id = 'default' /></div></div>"
      ],
      "text/plain": [
       "<Result 'C:\\\\Mac\\\\Home\\\\Documents\\\\ArcGIS\\\\Projects\\\\GIS5572\\\\Lab2\\\\Lab2.gdb\\\\landcover'>"
      ]
     },
     "execution_count": 85,
     "metadata": {},
     "output_type": "execute_result"
    }
   ],
   "source": [
    "# Clip and Export Raster outside Bounding Box\n",
    "output_raster = f\"{directory}/landcover\"\n",
    "arcpy.management.Clip(landcover_raw, \"133186.382854406 4770648.492016879 789594.190423549 5490732.38301064\", output_raster)"
   ]
  },
  {
   "cell_type": "code",
   "execution_count": 91,
   "metadata": {},
   "outputs": [
    {
     "data": {
      "text/html": [
       "<div class='gpresult'><h2>Messages</h2><div id='messages'>Start Time: Sunday, March 16, 2025 5:41:08 PM<br>Successfully converted:  C:\\\\Mac\\\\Home\\\\Documents\\\\ArcGIS\\\\Projects\\\\GIS5572\\\\Lab2\\\\MGC_30m_DEM\\\\elev_30m_digital_elevation_model.gdb\\\\digital_elevation_model_30m To C:\\\\Mac\\\\Home\\\\Documents\\\\ArcGIS\\\\Projects\\\\GIS5572\\\\Lab2\\\\Lab2.gdb\\\\digital_elevation_model_30m<br>Succeeded at Sunday, March 16, 2025 5:42:39 PM (Elapsed Time: 1 minutes 30 seconds)<br></div><div id = 'default' /></div></div>"
      ],
      "text/plain": [
       "<Result ''>"
      ]
     },
     "execution_count": 91,
     "metadata": {},
     "output_type": "execute_result"
    }
   ],
   "source": [
    "# Export Raster\n",
    "arcpy.conversion.RasterToGeodatabase(dem_raw, directory)"
   ]
  },
  {
   "cell_type": "markdown",
   "metadata": {},
   "source": [
    "# Roads Data QAQC"
   ]
  },
  {
   "cell_type": "code",
   "execution_count": 89,
   "metadata": {},
   "outputs": [],
   "source": [
    "selection = arcpy.management.SelectLayerByAttribute(\n",
    "    in_layer_or_view=\"MnDOT_Roadway_Routes_in_Minnesota\",\n",
    "    selection_type=\"NEW_SELECTION\",\n",
    "    where_clause=\"ROUTE_SI_1 = 'County' Or ROUTE_SI_1 = 'Interstate' Or ROUTE_SI_1 = 'State' Or ROUTE_SI_1 = 'U.S.'\",\n",
    "    invert_where_clause=None\n",
    ")"
   ]
  },
  {
   "cell_type": "code",
   "execution_count": 90,
   "metadata": {},
   "outputs": [
    {
     "data": {
      "text/html": [
       "<div class='gpresult'><h2>Messages</h2><div id='messages'>Start Time: Sunday, March 16, 2025 5:27:50 PM<br>Succeeded at Sunday, March 16, 2025 5:28:06 PM (Elapsed Time: 15.47 seconds)<br></div><div id = 'default' /></div></div>"
      ],
      "text/plain": [
       "<Result 'C:\\\\Mac\\\\Home\\\\Documents\\\\ArcGIS\\\\Projects\\\\GIS5572\\\\Lab2\\\\Lab2.gdb\\\\major_roads_raw'>"
      ]
     },
     "execution_count": 90,
     "metadata": {},
     "output_type": "execute_result"
    }
   ],
   "source": [
    "arcpy.conversion.ExportFeatures(\n",
    "    in_features=\"MnDOT_Roadway_Routes_in_Minnesota\",\n",
    "    out_features=r\"C:\\Mac\\Home\\Documents\\ArcGIS\\Projects\\GIS5572\\Lab2\\Lab2.gdb\\major_roads_raw\"\n",
    ")"
   ]
  },
  {
   "cell_type": "code",
   "execution_count": 92,
   "metadata": {},
   "outputs": [
    {
     "data": {
      "text/html": [
       "<div class='gpresult'><h2>Messages</h2><div id='messages'>Start Time: Sunday, March 16, 2025 5:56:32 PM<br>Started Spark Job 1 with 16 tasks.<br>Spark Job 1 completed in 3.3 seconds.<br>Started Spark Job 2 with 48 tasks.<br>Spark Job 2 completed in 24.7 seconds.<br><br>Succeeded at Sunday, March 16, 2025 5:57:22 PM (Elapsed Time: 49.85 seconds)<br></div><div id = 'default' /></div></div>"
      ],
      "text/plain": [
       "<Result 'C:\\\\Mac\\\\Home\\\\Documents\\\\ArcGIS\\\\Projects\\\\GIS5572\\\\Lab2\\\\Lab2.gdb\\\\major_roads_fv'>"
      ]
     },
     "execution_count": 92,
     "metadata": {},
     "output_type": "execute_result"
    }
   ],
   "source": [
    "arcpy.gapro.ClipLayer(\n",
    "    input_layer=\"major_roads_raw\",\n",
    "    clip_layer=r\"C:\\Mac\\Home\\Documents\\ArcGIS\\Projects\\GIS5572\\Lab2\\Lab2.gdb\\state_of_minnesota\",\n",
    "    out_feature_class=r\"C:\\Mac\\Home\\Documents\\ArcGIS\\Projects\\GIS5572\\Lab2\\Lab2.gdb\\major_roads_fv\"\n",
    ")"
   ]
  },
  {
   "cell_type": "code",
   "execution_count": 14,
   "metadata": {},
   "outputs": [
    {
     "data": {
      "text/html": [
       "<div class='gpresult'><h2>Messages</h2><div id='messages'>Start Time: Monday, March 17, 2025 10:06:40 AM<br>Failed to convert: weather_fc. ERROR 000210: Cannot create output C:\\\\Mac\\\\Home\\\\Documents\\\\ArcGIS\\\\Projects\\\\GIS5572\\\\Lab2\\\\Lab2PostGIS.sde\\\\lab1-2.postgres.weather_fc\\nFailed to execute (CopyFeatures).\\n<br>Failed to convert: major_roads_fv. ERROR 000210: Cannot create output C:\\\\Mac\\\\Home\\\\Documents\\\\ArcGIS\\\\Projects\\\\GIS5572\\\\Lab2\\\\Lab2PostGIS.sde\\\\lab1-2.postgres.major_roads_fv\\nFailed to execute (CopyFeatures).\\n<br>Succeeded at Monday, March 17, 2025 10:07:05 AM (Elapsed Time: 24.33 seconds)<br></div><div id = 'default' /></div></div>"
      ],
      "text/plain": [
       "<Result 'C:\\\\Mac\\\\Home\\\\Documents\\\\ArcGIS\\\\Projects\\\\GIS5572\\\\Lab2\\\\Lab2PostGIS.sde'>"
      ]
     },
     "execution_count": 14,
     "metadata": {},
     "output_type": "execute_result"
    }
   ],
   "source": [
    "# Export to PostGIS database\n",
    "arcpy.conversion.FeatureClassToGeodatabase(\n",
    "    Input_Features=\"weather_fc;major_roads_fv\",\n",
    "    Output_Geodatabase=r\"C:\\Mac\\Home\\Documents\\ArcGIS\\Projects\\GIS5572\\Lab2\\Lab2PostGIS.sde\"\n",
    ")\n"
   ]
  },
  {
   "cell_type": "code",
   "execution_count": null,
   "metadata": {},
   "outputs": [],
   "source": [
    "# Raster to Postgres Database\n",
    "arcpy.conversion.RasterToGeodatabase(\n",
    "    f'{os.path.join(directory, \"landcover\")};{os.path.join(directory, \"digital_elevation_model_30m\")}',\n",
    "    pgdb\n",
    ")"
   ]
  },
  {
   "cell_type": "code",
   "execution_count": null,
   "metadata": {},
   "outputs": [],
   "source": []
  }
 ],
 "metadata": {
  "kernelspec": {
   "display_name": "ArcGISPro",
   "language": "Python",
   "name": "python3"
  },
  "language_info": {
   "file_extension": ".py",
   "name": "python",
   "version": "3"
  }
 },
 "nbformat": 4,
 "nbformat_minor": 2
}
